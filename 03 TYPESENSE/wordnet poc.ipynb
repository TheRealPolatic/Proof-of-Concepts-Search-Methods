{
 "cells": [
  {
   "cell_type": "code",
   "execution_count": 22,
   "metadata": {},
   "outputs": [
    {
     "name": "stdout",
     "output_type": "stream",
     "text": [
      "Valentijn\n",
      "valentijn\n"
     ]
    }
   ],
   "source": [
    "from nltk.corpus import wordnet as wn\n",
    "from googletrans import Translator\n",
    "translator = Translator()\n",
    "\n",
    "words = set()\n",
    "for ss in wn.synsets('valentine'):\n",
    "\twords.update(ss.lemma_names())\n",
    "\t\n",
    "\n",
    "for word in words:\n",
    "\t\tresult = translator.translate(word, dest='nl')\n",
    "\t\tprint(result.text)"
   ]
  },
  {
   "cell_type": "code",
   "execution_count": 42,
   "metadata": {},
   "outputs": [
    {
     "name": "stdout",
     "output_type": "stream",
     "text": [
      "friday, saturday, tuesday, sunday, thursday, weekend, wednesday, january, weekday, week, month, morning, february, daybreak, fortnight, sunrise, dawn, evening, day, hour, year, afternoon, date, o'clock, tomorrow, yesterday, noon, twilight, daytime, march\n"
     ]
    }
   ],
   "source": [
    "import requests\n",
    "\n",
    "url = \"https://twinword-word-associations-v1.p.rapidapi.com/associations/\"\n",
    "\n",
    "querystring = {\"entry\":\"\"}\n",
    "\n",
    "headers = {\n",
    "    'x-rapidapi-host': \"twinword-word-associations-v1.p.rapidapi.com\",\n",
    "    'x-rapidapi-key': \"AAAA\"\n",
    "    }\n",
    "\n",
    "response = requests.request(\"GET\", url, headers=headers, params=querystring).json()\n",
    "\n",
    "print(response[\"associations\"])"
   ]
  }
 ],
 "metadata": {
  "interpreter": {
   "hash": "6ee58cb28f1e3d4c839f009d5e03c0bfdee935526353448cd1d9cb8a7e734202"
  },
  "kernelspec": {
   "display_name": "Python 3.8.10 64-bit",
   "language": "python",
   "name": "python3"
  },
  "language_info": {
   "codemirror_mode": {
    "name": "ipython",
    "version": 3
   },
   "file_extension": ".py",
   "mimetype": "text/x-python",
   "name": "python",
   "nbconvert_exporter": "python",
   "pygments_lexer": "ipython3",
   "version": "3.8.10"
  },
  "orig_nbformat": 4
 },
 "nbformat": 4,
 "nbformat_minor": 2
}
